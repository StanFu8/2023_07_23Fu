{
 "cells": [
  {
   "cell_type": "code",
   "execution_count": 3,
   "metadata": {},
   "outputs": [
    {
     "name": "stdout",
     "output_type": "stream",
     "text": [
      "789.csv存檔完成\n"
     ]
    }
   ],
   "source": [
    "import os\n",
    "import student\n",
    "\n",
    "file_name = input(\"請輸入要存檔的檔案名稱:\")\n",
    "root = os.path.abspath(path=\"./\")\n",
    "filePath = os.path.join(root,'csv_data',f'{file_name}.csv')\n",
    "\n",
    "students = student.get_students(student_num=30)\n",
    "students\n",
    "\n",
    "import csv\n",
    "with open(filePath,mode='w',encoding='utf-8',newline='') as file:\n",
    "    csv_writer = csv.writer(file)\n",
    "    csv_writer.writerow(['姓名', \"國文\", \"英文\", \"數學\", \"社會\", \"地理\"])\n",
    "    csv_writer.writerows(students)\n",
    "\n",
    "print(f\"{file_name}.csv存檔完成\")"
   ]
  },
  {
   "cell_type": "code",
   "execution_count": 6,
   "metadata": {},
   "outputs": [
    {
     "data": {
      "text/plain": [
       "[['李淑芳', 60, 94, 85, 84, 97],\n",
       " ['龐皓芳', 95, 66, 98, 67, 51],\n",
       " ['盧必妍', 75, 64, 79, 76, 59],\n",
       " ['白世宏', 71, 81, 59, 72, 62],\n",
       " ['馬彥文', 97, 93, 68, 56, 79],\n",
       " ['王士銘', 81, 65, 75, 87, 74],\n",
       " ['郎慧萍', 80, 98, 84, 98, 77],\n",
       " ['王筱婷', 78, 56, 70, 51, 83],\n",
       " ['戴萱能', 100, 69, 98, 61, 87],\n",
       " ['林怡偉', 95, 70, 67, 80, 51],\n",
       " ['劉慧君', 91, 72, 75, 82, 79],\n",
       " ['林志喜', 97, 74, 51, 93, 84],\n",
       " ['王雅慧', 79, 62, 99, 52, 72],\n",
       " ['朱彥志', 91, 91, 61, 92, 63],\n",
       " ['盧冠發', 93, 93, 65, 78, 64],\n",
       " ['詹忠光', 55, 75, 60, 61, 93],\n",
       " ['周家銘', 85, 83, 62, 62, 77],\n",
       " ['鄧淑娟', 74, 76, 87, 74, 77],\n",
       " ['張凡成', 81, 69, 61, 56, 97],\n",
       " ['鄭佳玲', 98, 63, 100, 59, 77],\n",
       " ['簡佳樺', 58, 83, 87, 79, 68],\n",
       " ['王孝純', 54, 97, 58, 97, 72],\n",
       " ['張慧君', 95, 88, 75, 73, 95],\n",
       " ['孫宜珊', 55, 67, 97, 88, 100],\n",
       " ['林建勳', 72, 63, 93, 90, 77],\n",
       " ['王惠皓', 64, 52, 57, 62, 94],\n",
       " ['林思賢', 71, 53, 82, 78, 99],\n",
       " ['陳姵彬', 84, 80, 74, 54, 70],\n",
       " ['楊少亮', 74, 74, 59, 82, 54],\n",
       " ['孫宜珊', 62, 74, 67, 81, 87]]"
      ]
     },
     "metadata": {},
     "output_type": "display_data"
    },
    {
     "name": "stdout",
     "output_type": "stream",
     "text": [
      "a3.csv存檔完成\n"
     ]
    }
   ],
   "source": [
    "import csv\n",
    "nums = int(input(\"請輸入學生數:\"))\n",
    "students = student.get_students(student_num=nums)\n",
    "display(students)\n",
    "\n",
    "fileName = input(\"請問存檔名稱:(名稱,n)\")\n",
    "if fileName != 'n':\n",
    "    root = os.path.abspath(path=\"./\")\n",
    "    filePath = os.path.join(root,'csv_data',f'{fileName}.csv')\n",
    "    with open(filePath,mode='w',encoding='utf-8',newline='') as file:\n",
    "        csv_writer = csv.writer(file)\n",
    "        csv_writer.writerow(['姓名', \"國文\", \"英文\", \"數學\", \"社會\", \"地理\"])\n",
    "        csv_writer.writerows(students)\n",
    "    print(f\"{fileName}.csv存檔完成\")\n",
    "else:\n",
    "    print(\"應用程式結束\")"
   ]
  }
 ],
 "metadata": {
  "kernelspec": {
   "display_name": "Python 3",
   "language": "python",
   "name": "python3"
  },
  "language_info": {
   "codemirror_mode": {
    "name": "ipython",
    "version": 3
   },
   "file_extension": ".py",
   "mimetype": "text/x-python",
   "name": "python",
   "nbconvert_exporter": "python",
   "pygments_lexer": "ipython3",
   "version": "3.10.11"
  },
  "orig_nbformat": 4
 },
 "nbformat": 4,
 "nbformat_minor": 2
}
