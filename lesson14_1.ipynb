{
 "cells": [
  {
   "cell_type": "code",
   "execution_count": 8,
   "metadata": {},
   "outputs": [
    {
     "name": "stdout",
     "output_type": "stream",
     "text": [
      "下載成功\n"
     ]
    }
   ],
   "source": [
    "import requests\n",
    "#下載動作\n",
    "\n",
    "url = 'https://opendata.cwb.gov.tw/fileapi/v1/opendataapi/F-C0032-001?Authorization=rdec-key-123-45678-011121314&format=JSON'\n",
    "response = requests.get(url)\n",
    "if response.status_code == 200:\n",
    "    print(\"下載成功\")"
   ]
  },
  {
   "cell_type": "code",
   "execution_count": 7,
   "metadata": {},
   "outputs": [],
   "source": [
    "#存檔\n",
    "response.text\n",
    "with open(\"最新的氣象預測.json\",mode=\"w\",encoding=\"utf-8\") as file:\n",
    "    file.write(response.text)"
   ]
  },
  {
   "cell_type": "code",
   "execution_count": null,
   "metadata": {},
   "outputs": [],
   "source": [
    "#使用json.loads()\n",
    "import json\n",
    "all_data = json.loads(response.text)\n",
    "all_data"
   ]
  },
  {
   "cell_type": "code",
   "execution_count": null,
   "metadata": {},
   "outputs": [],
   "source": [
    "#使用Response的實體方法json()\n",
    "all_data = response.json()\n",
    "all_data"
   ]
  },
  {
   "cell_type": "code",
   "execution_count": 13,
   "metadata": {},
   "outputs": [
    {
     "data": {
      "text/plain": [
       "'2023-09-03T10:18:02+08:00'"
      ]
     },
     "execution_count": 13,
     "metadata": {},
     "output_type": "execute_result"
    }
   ],
   "source": [
    "all_data['cwbopendata']['sent']"
   ]
  },
  {
   "cell_type": "code",
   "execution_count": null,
   "metadata": {},
   "outputs": [],
   "source": [
    "#將資料截取想要的內容,成為簡單的表格資料\n",
    "data_list = all_data['cwbopendata']['dataset']['location']\n",
    "weather_list = []\n",
    "for item in data_list:\n",
    "    city_item = {}\n",
    "    city_item['城市'] = item['locationName']\n",
    "    city_item['啟始時間'] = item['weatherElement'][1]['time'][0]['startTime']\n",
    "    city_item['結束時間'] = item['weatherElement'][1]['time'][0]['endTime']\n",
    "    city_item['最高溫度'] = item['weatherElement'][1]['time'][0]['parameter']['parameterName']\n",
    "    city_item['最底溫度'] = item['weatherElement'][2]['time'][0]['parameter']['parameterName']\n",
    "    city_item['感覺'] = item['weatherElement'][3]['time'][0]['parameter']['parameterName']\n",
    "    weather_list.append(city_item)\n",
    "\n",
    "weather_list"
   ]
  },
  {
   "cell_type": "code",
   "execution_count": 27,
   "metadata": {},
   "outputs": [],
   "source": [
    "#儲存為csv\n",
    "import csv\n",
    "with open('最新的氣象預測.csv',mode='w',encoding='utf8',newline='') as file:\n",
    "    fieldnames = ['城市', '啟始時間', '結束時間', '最高溫度', '最底溫度', '感覺']\n",
    "    dict_writer = csv.DictWriter(file,fieldnames=fieldnames)\n",
    "    dict_writer.writeheader()\n",
    "    dict_writer.writerows(weather_list)"
   ]
  }
 ],
 "metadata": {
  "kernelspec": {
   "display_name": "Python 3",
   "language": "python",
   "name": "python3"
  },
  "language_info": {
   "codemirror_mode": {
    "name": "ipython",
    "version": 3
   },
   "file_extension": ".py",
   "mimetype": "text/x-python",
   "name": "python",
   "nbconvert_exporter": "python",
   "pygments_lexer": "ipython3",
   "version": "3.10.11"
  },
  "orig_nbformat": 4
 },
 "nbformat": 4,
 "nbformat_minor": 2
}
