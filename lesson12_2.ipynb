{
 "cells": [
  {
   "cell_type": "code",
   "execution_count": 3,
   "metadata": {},
   "outputs": [
    {
     "name": "stdout",
     "output_type": "stream",
     "text": [
      "目前存檔的檔案:\n",
      "['a.csv', 'a1.csv', 'a2.csv', 'a3.csv']\n",
      "['姓名', '國文', '英文', '數學', '社會', '地理']\n",
      "['黃彥孝', '66', '53', '81', '60', '77']\n",
      "['張明惟', '86', '72', '88', '83', '91']\n",
      "['劉雯芬', '66', '57', '74', '56', '70']\n",
      "['陳淑萍', '67', '56', '76', '61', '51']\n",
      "['張凡成', '58', '74', '56', '63', '85']\n",
      "['呂傑宣', '56', '84', '75', '62', '71']\n",
      "['胡姿婷', '88', '99', '78', '89', '65']\n",
      "['陳家維', '75', '54', '50', '76', '80']\n"
     ]
    }
   ],
   "source": [
    "import os\n",
    "import csv\n",
    "root = os.path.abspath('./')\n",
    "directory = os.path.join(root,\"csv_data\")\n",
    "print(\"目前存檔的檔案:\")\n",
    "print(os.listdir(directory))\n",
    "\n",
    "\n",
    "fileName = input(\"您要載入的檔案是:\")\n",
    "filePath = os.path.join(root,\"csv_data\",fileName)\n",
    "with open(filePath,encoding='utf-8',newline='') as file:\n",
    "    csv_reader = csv.reader(file)\n",
    "    for line in csv_reader:\n",
    "        print(line)"
   ]
  },
  {
   "cell_type": "code",
   "execution_count": 4,
   "metadata": {},
   "outputs": [
    {
     "name": "stdout",
     "output_type": "stream",
     "text": [
      "目前存檔的檔案:\n",
      "['a.csv', 'a1.csv', 'a2.csv', 'a3.csv']\n",
      "[['李淑芳', '60', '94', '85', '84', '97'], ['龐皓芳', '95', '66', '98', '67', '51'], ['盧必妍', '75', '64', '79', '76', '59'], ['白世宏', '71', '81', '59', '72', '62'], ['馬彥文', '97', '93', '68', '56', '79'], ['王士銘', '81', '65', '75', '87', '74'], ['郎慧萍', '80', '98', '84', '98', '77'], ['王筱婷', '78', '56', '70', '51', '83'], ['戴萱能', '100', '69', '98', '61', '87'], ['林怡偉', '95', '70', '67', '80', '51'], ['劉慧君', '91', '72', '75', '82', '79'], ['林志喜', '97', '74', '51', '93', '84'], ['王雅慧', '79', '62', '99', '52', '72'], ['朱彥志', '91', '91', '61', '92', '63'], ['盧冠發', '93', '93', '65', '78', '64'], ['詹忠光', '55', '75', '60', '61', '93'], ['周家銘', '85', '83', '62', '62', '77'], ['鄧淑娟', '74', '76', '87', '74', '77'], ['張凡成', '81', '69', '61', '56', '97'], ['鄭佳玲', '98', '63', '100', '59', '77'], ['簡佳樺', '58', '83', '87', '79', '68'], ['王孝純', '54', '97', '58', '97', '72'], ['張慧君', '95', '88', '75', '73', '95'], ['孫宜珊', '55', '67', '97', '88', '100'], ['林建勳', '72', '63', '93', '90', '77'], ['王惠皓', '64', '52', '57', '62', '94'], ['林思賢', '71', '53', '82', '78', '99'], ['陳姵彬', '84', '80', '74', '54', '70'], ['楊少亮', '74', '74', '59', '82', '54'], ['孫宜珊', '62', '74', '67', '81', '87']]\n"
     ]
    }
   ],
   "source": [
    "import os\n",
    "import csv\n",
    "root = os.path.abspath('./')\n",
    "directory = os.path.join(root,\"csv_data\")\n",
    "print(\"目前存檔的檔案:\")\n",
    "print(os.listdir(directory))\n",
    "\n",
    "\n",
    "fileName = input(\"您要載入的檔案是:\")\n",
    "filePath = os.path.join(root,\"csv_data\",fileName)\n",
    "with open(filePath,encoding='utf-8',newline='') as file:\n",
    "    csv_reader = csv.reader(file)\n",
    "    next(csv_reader)\n",
    "    students = list(csv_reader)\n",
    "print(students)"
   ]
  }
 ],
 "metadata": {
  "kernelspec": {
   "display_name": "Python 3",
   "language": "python",
   "name": "python3"
  },
  "language_info": {
   "codemirror_mode": {
    "name": "ipython",
    "version": 3
   },
   "file_extension": ".py",
   "mimetype": "text/x-python",
   "name": "python",
   "nbconvert_exporter": "python",
   "pygments_lexer": "ipython3",
   "version": "3.10.11"
  },
  "orig_nbformat": 4
 },
 "nbformat": 4,
 "nbformat_minor": 2
}
