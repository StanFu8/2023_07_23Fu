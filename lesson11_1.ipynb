{
 "cells": [
  {
   "cell_type": "code",
   "execution_count": 1,
   "metadata": {},
   "outputs": [
    {
     "name": "stdout",
     "output_type": "stream",
     "text": [
      "[89, 79, 68, 92, 58]\n",
      "[98, 67, 75, 83, 71]\n",
      "[78, 97, 84, 73, 92]\n"
     ]
    }
   ],
   "source": [
    "score1 = [89, 79, 68, 92, 58]\n",
    "score2 = [98, 67, 75, 83, 71]\n",
    "score3 = [78, 97, 84, 73, 92]\n",
    "\n",
    "students = [score1, score2, score3] #建立\n",
    "for student in students: #取出第2維的資料\n",
    "    print(student)"
   ]
  },
  {
   "cell_type": "code",
   "execution_count": 4,
   "metadata": {},
   "outputs": [
    {
     "data": {
      "text/plain": [
       "[74, 50, 89, 57, 91]"
      ]
     },
     "execution_count": 4,
     "metadata": {},
     "output_type": "execute_result"
    }
   ],
   "source": [
    "import random\n",
    "score = []\n",
    "for _ in range(5):    \n",
    "    score.append(random.randint(50, 100))\n",
    "score"
   ]
  },
  {
   "cell_type": "code",
   "execution_count": 6,
   "metadata": {},
   "outputs": [
    {
     "data": {
      "text/plain": [
       "[79, 63, 77, 78, 91]"
      ]
     },
     "execution_count": 6,
     "metadata": {},
     "output_type": "execute_result"
    }
   ],
   "source": [
    "import random\n",
    "#list comprehension\n",
    "score = [random.randint(50, 100) for _ in range(5)]\n",
    "score"
   ]
  },
  {
   "cell_type": "code",
   "execution_count": 1,
   "metadata": {},
   "outputs": [
    {
     "ename": "FileNotFoundError",
     "evalue": "[Errno 2] No such file or directory: 'names.txt'",
     "output_type": "error",
     "traceback": [
      "\u001b[1;31m---------------------------------------------------------------------------\u001b[0m",
      "\u001b[1;31mFileNotFoundError\u001b[0m                         Traceback (most recent call last)",
      "Cell \u001b[1;32mIn[1], line 16\u001b[0m\n\u001b[0;32m     13\u001b[0m     random_list \u001b[39m=\u001b[39m random\u001b[39m.\u001b[39mchoices(names,k\u001b[39m=\u001b[39mnums)\n\u001b[0;32m     14\u001b[0m     \u001b[39mreturn\u001b[39;00m random_list\n\u001b[1;32m---> 16\u001b[0m names \u001b[39m=\u001b[39m get_random_names(nums\u001b[39m=\u001b[39;49m\u001b[39m8\u001b[39;49m)\n\u001b[0;32m     17\u001b[0m \u001b[39mprint\u001b[39m(names)\n",
      "Cell \u001b[1;32mIn[1], line 12\u001b[0m, in \u001b[0;36mget_random_names\u001b[1;34m(nums)\u001b[0m\n\u001b[0;32m     11\u001b[0m \u001b[39mdef\u001b[39;00m \u001b[39mget_random_names\u001b[39m(nums:\u001b[39mint\u001b[39m) \u001b[39m-\u001b[39m\u001b[39m>\u001b[39m \u001b[39mlist\u001b[39m[\u001b[39mstr\u001b[39m]:\n\u001b[1;32m---> 12\u001b[0m     names \u001b[39m=\u001b[39m get_all_names()\n\u001b[0;32m     13\u001b[0m     random_list \u001b[39m=\u001b[39m random\u001b[39m.\u001b[39mchoices(names,k\u001b[39m=\u001b[39mnums)\n\u001b[0;32m     14\u001b[0m     \u001b[39mreturn\u001b[39;00m random_list\n",
      "Cell \u001b[1;32mIn[1], line 3\u001b[0m, in \u001b[0;36mget_all_names\u001b[1;34m()\u001b[0m\n\u001b[0;32m      2\u001b[0m \u001b[39mdef\u001b[39;00m \u001b[39mget_all_names\u001b[39m() \u001b[39m-\u001b[39m\u001b[39m>\u001b[39m \u001b[39mlist\u001b[39m[\u001b[39mstr\u001b[39m]:\n\u001b[1;32m----> 3\u001b[0m     \u001b[39mwith\u001b[39;00m \u001b[39mopen\u001b[39;49m(\u001b[39m'\u001b[39;49m\u001b[39mnames.txt\u001b[39;49m\u001b[39m'\u001b[39;49m,mode\u001b[39m=\u001b[39;49m\u001b[39m'\u001b[39;49m\u001b[39mr\u001b[39;49m\u001b[39m'\u001b[39;49m,encoding\u001b[39m=\u001b[39;49m\u001b[39m'\u001b[39;49m\u001b[39mutf-8\u001b[39;49m\u001b[39m'\u001b[39;49m) \u001b[39mas\u001b[39;00m file:\n\u001b[0;32m      4\u001b[0m         names:\u001b[39mlist\u001b[39m[\u001b[39mstr\u001b[39m] \u001b[39m=\u001b[39m []\n\u001b[0;32m      5\u001b[0m         \u001b[39mfor\u001b[39;00m line \u001b[39min\u001b[39;00m file:\n\u001b[0;32m      6\u001b[0m             \u001b[39m#names.append(line)\u001b[39;00m\n",
      "File \u001b[1;32m~\\AppData\\Roaming\\Python\\Python311\\site-packages\\IPython\\core\\interactiveshell.py:284\u001b[0m, in \u001b[0;36m_modified_open\u001b[1;34m(file, *args, **kwargs)\u001b[0m\n\u001b[0;32m    277\u001b[0m \u001b[39mif\u001b[39;00m file \u001b[39min\u001b[39;00m {\u001b[39m0\u001b[39m, \u001b[39m1\u001b[39m, \u001b[39m2\u001b[39m}:\n\u001b[0;32m    278\u001b[0m     \u001b[39mraise\u001b[39;00m \u001b[39mValueError\u001b[39;00m(\n\u001b[0;32m    279\u001b[0m         \u001b[39mf\u001b[39m\u001b[39m\"\u001b[39m\u001b[39mIPython won\u001b[39m\u001b[39m'\u001b[39m\u001b[39mt let you open fd=\u001b[39m\u001b[39m{\u001b[39;00mfile\u001b[39m}\u001b[39;00m\u001b[39m by default \u001b[39m\u001b[39m\"\u001b[39m\n\u001b[0;32m    280\u001b[0m         \u001b[39m\"\u001b[39m\u001b[39mas it is likely to crash IPython. If you know what you are doing, \u001b[39m\u001b[39m\"\u001b[39m\n\u001b[0;32m    281\u001b[0m         \u001b[39m\"\u001b[39m\u001b[39myou can use builtins\u001b[39m\u001b[39m'\u001b[39m\u001b[39m open.\u001b[39m\u001b[39m\"\u001b[39m\n\u001b[0;32m    282\u001b[0m     )\n\u001b[1;32m--> 284\u001b[0m \u001b[39mreturn\u001b[39;00m io_open(file, \u001b[39m*\u001b[39;49margs, \u001b[39m*\u001b[39;49m\u001b[39m*\u001b[39;49mkwargs)\n",
      "\u001b[1;31mFileNotFoundError\u001b[0m: [Errno 2] No such file or directory: 'names.txt'"
     ]
    }
   ],
   "source": [
    "import random\n",
    "def get_all_names() -> list[str]:\n",
    "    with open('names.txt',mode='r',encoding='utf-8') as file:\n",
    "        names:list[str] = []\n",
    "        for line in file:\n",
    "            #names.append(line)\n",
    "            line = line.rstrip('\\n')\n",
    "            names.append(line)\n",
    "        return names\n",
    "    \n",
    "def get_random_names(nums:int) -> list[str]:\n",
    "    names = get_all_names()\n",
    "    random_list = random.choices(names,k=nums)\n",
    "    return random_list\n",
    "\n",
    "names = get_random_names(nums=8)\n",
    "print(names)"
   ]
  },
  {
   "cell_type": "code",
   "execution_count": 3,
   "metadata": {},
   "outputs": [
    {
     "data": {
      "text/plain": [
       "[[98, 71, 89, 86, 73],\n",
       " [84, 57, 71, 97, 97],\n",
       " [75, 63, 89, 56, 76],\n",
       " [61, 95, 61, 82, 87],\n",
       " [73, 56, 74, 82, 52],\n",
       " [72, 50, 85, 72, 52],\n",
       " [79, 94, 98, 94, 71],\n",
       " [72, 83, 56, 65, 69],\n",
       " [73, 63, 80, 65, 57],\n",
       " [89, 90, 77, 62, 86],\n",
       " [63, 83, 100, 86, 59],\n",
       " [77, 50, 74, 77, 51],\n",
       " [89, 66, 64, 50, 82],\n",
       " [50, 83, 61, 96, 93],\n",
       " [68, 54, 88, 78, 89],\n",
       " [55, 94, 53, 75, 95],\n",
       " [95, 79, 87, 55, 97],\n",
       " [77, 60, 62, 51, 80],\n",
       " [93, 96, 61, 84, 90],\n",
       " [61, 75, 75, 61, 90],\n",
       " [78, 87, 50, 85, 59],\n",
       " [69, 92, 50, 58, 77],\n",
       " [77, 56, 85, 83, 93],\n",
       " [74, 52, 84, 61, 90],\n",
       " [57, 78, 60, 52, 67],\n",
       " [59, 95, 100, 54, 59],\n",
       " [57, 91, 65, 63, 100],\n",
       " [76, 84, 67, 78, 82],\n",
       " [88, 54, 58, 94, 98],\n",
       " [96, 86, 72, 99, 98],\n",
       " [61, 78, 91, 81, 82],\n",
       " [90, 91, 80, 52, 69],\n",
       " [60, 77, 97, 67, 82],\n",
       " [69, 56, 81, 53, 56],\n",
       " [86, 65, 89, 87, 58],\n",
       " [57, 69, 94, 56, 60],\n",
       " [94, 70, 76, 96, 73],\n",
       " [52, 90, 86, 66, 77],\n",
       " [67, 51, 65, 69, 96],\n",
       " [77, 98, 80, 74, 67],\n",
       " [61, 71, 73, 91, 70],\n",
       " [59, 77, 60, 72, 76],\n",
       " [67, 82, 86, 67, 59],\n",
       " [62, 81, 88, 57, 74],\n",
       " [55, 71, 56, 79, 95],\n",
       " [61, 94, 55, 52, 56],\n",
       " [71, 74, 96, 58, 75],\n",
       " [65, 53, 57, 72, 83],\n",
       " [95, 59, 91, 94, 97],\n",
       " [77, 96, 61, 74, 56]]"
      ]
     },
     "execution_count": 3,
     "metadata": {},
     "output_type": "execute_result"
    }
   ],
   "source": [
    "import random\n",
    "\n",
    "student_num = 50\n",
    "students:list[list] = [] #建立第一維list\n",
    "for _ in range(student_num):\n",
    "    one_student = [random.randint(50, 100) for _ in range(5)] #建立第2維list\n",
    "    students.append(one_student)\n",
    "\n",
    "students"
   ]
  },
  {
   "cell_type": "code",
   "execution_count": 2,
   "metadata": {},
   "outputs": [
    {
     "ename": "NameError",
     "evalue": "name 'get_random_names' is not defined",
     "output_type": "error",
     "traceback": [
      "\u001b[1;31m---------------------------------------------------------------------------\u001b[0m",
      "\u001b[1;31mNameError\u001b[0m                                 Traceback (most recent call last)",
      "Cell \u001b[1;32mIn[2], line 5\u001b[0m\n\u001b[0;32m      3\u001b[0m student_num \u001b[39m=\u001b[39m \u001b[39m10\u001b[39m\n\u001b[0;32m      4\u001b[0m students:\u001b[39mlist\u001b[39m[\u001b[39mlist\u001b[39m] \u001b[39m=\u001b[39m [] \u001b[39m#建立第一維list\u001b[39;00m\n\u001b[1;32m----> 5\u001b[0m names \u001b[39m=\u001b[39m get_random_names(nums\u001b[39m=\u001b[39mstudent_num)\n\u001b[0;32m      6\u001b[0m \u001b[39mfor\u001b[39;00m i \u001b[39min\u001b[39;00m \u001b[39mrange\u001b[39m(student_num):\n\u001b[0;32m      7\u001b[0m     one_student \u001b[39m=\u001b[39m [random\u001b[39m.\u001b[39mrandint(\u001b[39m50\u001b[39m, \u001b[39m100\u001b[39m) \u001b[39mfor\u001b[39;00m _ \u001b[39min\u001b[39;00m \u001b[39mrange\u001b[39m(\u001b[39m5\u001b[39m)] \u001b[39m#建立第2維list\u001b[39;00m\n",
      "\u001b[1;31mNameError\u001b[0m: name 'get_random_names' is not defined"
     ]
    }
   ],
   "source": [
    "import random\n",
    "\n",
    "student_num = 10\n",
    "students:list[list] = [] #建立第一維list\n",
    "names = get_random_names(nums=student_num)\n",
    "for i in range(student_num):\n",
    "    one_student = [random.randint(50, 100) for _ in range(5)] #建立第2維list\n",
    "    name = names[i]\n",
    "   \n",
    "    students.append( [name] + one_student)\n",
    "\n",
    "students"
   ]
  },
  {
   "cell_type": "code",
   "execution_count": 4,
   "metadata": {},
   "outputs": [
    {
     "ename": "NameError",
     "evalue": "name 'get_random_names' is not defined",
     "output_type": "error",
     "traceback": [
      "\u001b[1;31m---------------------------------------------------------------------------\u001b[0m",
      "\u001b[1;31mNameError\u001b[0m                                 Traceback (most recent call last)",
      "Cell \u001b[1;32mIn[4], line 13\u001b[0m\n\u001b[0;32m     10\u001b[0m         students\u001b[39m.\u001b[39mappend(one_student)\n\u001b[0;32m     11\u001b[0m     \u001b[39mreturn\u001b[39;00m students\n\u001b[1;32m---> 13\u001b[0m get_students(student_num\u001b[39m=\u001b[39;49m\u001b[39m3\u001b[39;49m)\n",
      "Cell \u001b[1;32mIn[4], line 5\u001b[0m, in \u001b[0;36mget_students\u001b[1;34m(student_num)\u001b[0m\n\u001b[0;32m      3\u001b[0m \u001b[39mdef\u001b[39;00m \u001b[39mget_students\u001b[39m(student_num:\u001b[39mint\u001b[39m) \u001b[39m-\u001b[39m\u001b[39m>\u001b[39m \u001b[39mlist\u001b[39m[\u001b[39mlist\u001b[39m]:    \n\u001b[0;32m      4\u001b[0m     students:\u001b[39mlist\u001b[39m[\u001b[39mlist\u001b[39m] \u001b[39m=\u001b[39m [] \u001b[39m#建立第一維list\u001b[39;00m\n\u001b[1;32m----> 5\u001b[0m     names \u001b[39m=\u001b[39m get_random_names(nums\u001b[39m=\u001b[39mstudent_num)\n\u001b[0;32m      6\u001b[0m     \u001b[39mfor\u001b[39;00m i \u001b[39min\u001b[39;00m \u001b[39mrange\u001b[39m(student_num):\n\u001b[0;32m      7\u001b[0m         one_student \u001b[39m=\u001b[39m [random\u001b[39m.\u001b[39mrandint(\u001b[39m50\u001b[39m, \u001b[39m100\u001b[39m) \u001b[39mfor\u001b[39;00m _ \u001b[39min\u001b[39;00m \u001b[39mrange\u001b[39m(\u001b[39m5\u001b[39m)] \u001b[39m#建立第2維list\u001b[39;00m\n",
      "\u001b[1;31mNameError\u001b[0m: name 'get_random_names' is not defined"
     ]
    }
   ],
   "source": [
    "import random\n",
    "\n",
    "def get_students(student_num:int) -> list[list]:    \n",
    "    students:list[list] = [] #建立第一維list\n",
    "    names = get_random_names(nums=student_num)\n",
    "    for i in range(student_num):\n",
    "        one_student = [random.randint(50, 100) for _ in range(5)] #建立第2維list\n",
    "        name = names[i]\n",
    "        one_student = [name] + one_student\n",
    "        students.append(one_student)\n",
    "    return students\n",
    "\n",
    "get_students(student_num=3)"
   ]
  },
  {
   "cell_type": "code",
   "execution_count": 12,
   "metadata": {},
   "outputs": [
    {
     "data": {
      "text/plain": [
       "'c:\\\\Users\\\\Stan\\\\OneDrive\\\\文件\\\\python_project\\\\2023_07_23Fu\\\\csv_data\\\\123.csv'"
      ]
     },
     "execution_count": 12,
     "metadata": {},
     "output_type": "execute_result"
    }
   ],
   "source": [
    "import os\n",
    "\n",
    "file_name = input(\"請輸入要存檔的檔案名稱:\")\n",
    "root = os.path.abspath(path=\"./\")\n",
    "filePath = os.path.join(root,'csv_data',f'{file_name}.csv')\n",
    "filePath"
   ]
  }
 ],
 "metadata": {
  "kernelspec": {
   "display_name": "Python 3",
   "language": "python",
   "name": "python3"
  },
  "language_info": {
   "codemirror_mode": {
    "name": "ipython",
    "version": 3
   },
   "file_extension": ".py",
   "mimetype": "text/x-python",
   "name": "python",
   "nbconvert_exporter": "python",
   "pygments_lexer": "ipython3",
   "version": "3.11.3"
  },
  "orig_nbformat": 4
 },
 "nbformat": 4,
 "nbformat_minor": 2
}
